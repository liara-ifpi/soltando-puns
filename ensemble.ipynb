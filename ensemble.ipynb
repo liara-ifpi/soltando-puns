{
 "cells": [
  {
   "cell_type": "code",
   "execution_count": null,
   "metadata": {
    "vscode": {
     "languageId": "plaintext"
    }
   },
   "outputs": [],
   "source": [
    "import pandas as pd\n",
    "\n",
    "from sklearn.feature_extraction.text import TfidfVectorizer\n",
    "from sklearn.ensemble import VotingClassifier\n",
    "from sklearn.ensemble import RandomForestClassifier\n",
    "from sklearn.linear_model import LogisticRegression\n",
    "from sklearn.svm import SVC\n",
    "from sklearn.metrics import classification_report\n",
    "from nltk.corpus import stopwords"
   ]
  },
  {
   "cell_type": "code",
   "execution_count": null,
   "metadata": {
    "vscode": {
     "languageId": "plaintext"
    }
   },
   "outputs": [],
   "source": [
    "nltk.download('stopwords')\n",
    "stop_words = stopwords.words('portuguese')\n",
    "\n",
    "def load_data(file_path):\n",
    "    return pd.read_json(file_path, lines=True)\n",
    "    \n",
    "\n",
    "def create_x_y(df):\n",
    "    x = df['text']\n",
    "    y = df['label']\n",
    "    return x, y"
   ]
  },
  {
   "cell_type": "code",
   "execution_count": null,
   "metadata": {
    "vscode": {
     "languageId": "plaintext"
    }
   },
   "outputs": [],
   "source": [
    "df_train = load_data('dataset/train.jsonl')\n",
    "x_train, y_train = create_x_y(df_train)\n",
    "\n",
    "df_val = load_data('dataset/validation.jsonl')\n",
    "x_val, y_val = create_x_y(df_val)\n",
    "\n",
    "df_test = load_data('dataset/test.jsonl')\n",
    "x_test, y_test = create_x_y(df_test)"
   ]
  },
  {
   "cell_type": "code",
   "execution_count": null,
   "metadata": {
    "vscode": {
     "languageId": "plaintext"
    }
   },
   "outputs": [],
   "source": [
    "vectorizer = TfidfVectorizer(ngram_range=(1, 2), stop_words=stop_words)\n",
    "x_train_vectorized = vectorizer.fit_transform(x_train)\n",
    "x_val_vectorized = vectorizer.transform(x_val)\n",
    "x_test_vectorized = vectorizer.transform(x_test)"
   ]
  },
  {
   "cell_type": "code",
   "execution_count": null,
   "metadata": {
    "vscode": {
     "languageId": "plaintext"
    }
   },
   "outputs": [],
   "source": [
    "rf_model = RandomForestClassifier(n_estimators=100, criterion='entropy', max_depth=15, random_state=40)\n",
    "lr_model = LogisticRegression(random_state=40, max_iter=100)\n",
    "svm_model = SVC(probability=True, random_state=40)\n",
    "\n",
    "voting_model = VotingClassifier(estimators=[\n",
    "    ('rf', rf_model),\n",
    "    ('lr', lr_model),\n",
    "    ('svm', svm_model)\n",
    "], voting='soft', n_jobs=30)\n",
    "\n",
    "voting_model.fit(x_train_vectorized, y_train)"
   ]
  },
  {
   "cell_type": "code",
   "execution_count": null,
   "metadata": {
    "vscode": {
     "languageId": "plaintext"
    }
   },
   "outputs": [],
   "source": [
    "y_test_pred = voting_model.predict(x_test_vectorized)\n",
    "\n",
    "print(classification_report(y_test, y_test_pred))"
   ]
  }
 ],
 "metadata": {
  "language_info": {
   "name": "python"
  }
 },
 "nbformat": 4,
 "nbformat_minor": 2
}
